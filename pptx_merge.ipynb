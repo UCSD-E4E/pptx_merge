{
 "cells": [
  {
   "cell_type": "code",
   "execution_count": 1,
   "metadata": {},
   "outputs": [],
   "source": [
    "import win32com.client\n",
    "from pathlib import Path"
   ]
  },
  {
   "cell_type": "code",
   "execution_count": 2,
   "metadata": {},
   "outputs": [],
   "source": [
    "files = list(Path('.').glob('*.pptx'))\n",
    "output_path = Path('./output.pptx')"
   ]
  },
  {
   "cell_type": "code",
   "execution_count": 3,
   "metadata": {},
   "outputs": [],
   "source": [
    "ppt_instance = win32com.client.Dispatch('PowerPoint.Application')\n",
    "prs = ppt_instance.Presentations.Add()\n",
    "prs.SaveAs(str(output_path.resolve()))"
   ]
  },
  {
   "cell_type": "code",
   "execution_count": 4,
   "metadata": {},
   "outputs": [],
   "source": [
    "for ppt_path in files:\n",
    "    ppt = ppt_instance.Presentations.Open(str(ppt_path.resolve()))\n",
    "    ppt.Slides.range(range(1, ppt.Slides.Count + 1)).copy()\n",
    "    ppt_instance.Presentations(output_path.name).Windows(1).Activate()\n",
    "    prs.Application.CommandBars.ExecuteMSO(\"PasteSourceFormatting\")\n",
    "    ppt.Close()\n",
    "    # prs.Slides.InsertFromFile(str(ppt_path.resolve()), prs.Slides.Count)"
   ]
  },
  {
   "cell_type": "code",
   "execution_count": 5,
   "metadata": {},
   "outputs": [],
   "source": [
    "prs.SaveAs(str(output_path.resolve()))\n",
    "prs.Close()\n",
    "ppt_instance.Quit()"
   ]
  }
 ],
 "metadata": {
  "kernelspec": {
   "display_name": "Python 3.10.8 ('.venv': venv)",
   "language": "python",
   "name": "python3"
  },
  "language_info": {
   "codemirror_mode": {
    "name": "ipython",
    "version": 3
   },
   "file_extension": ".py",
   "mimetype": "text/x-python",
   "name": "python",
   "nbconvert_exporter": "python",
   "pygments_lexer": "ipython3",
   "version": "3.10.10"
  },
  "orig_nbformat": 4,
  "vscode": {
   "interpreter": {
    "hash": "421775ed80caccaec9c1b756b8df10049297c25e50d4d1d4e76c6661c534363c"
   }
  }
 },
 "nbformat": 4,
 "nbformat_minor": 2
}
